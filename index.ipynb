{
 "cells": [
  {
   "attachments": {},
   "cell_type": "markdown",
   "metadata": {},
   "source": [
    "### Instalar No VSCODE as extensões \"Jupyter\" e \"Python\" para rodar tudo"
   ]
  },
  {
   "cell_type": "code",
   "execution_count": 1,
   "metadata": {},
   "outputs": [
    {
     "name": "stdout",
     "output_type": "stream",
     "text": [
      "Requirement already satisfied: pip in c:\\users\\aluno\\appdata\\local\\programs\\python\\python310\\lib\\site-packages (23.1)\n",
      "Note: you may need to restart the kernel to use updated packages.\n"
     ]
    }
   ],
   "source": [
    "pip install --upgrade pip"
   ]
  },
  {
   "attachments": {},
   "cell_type": "markdown",
   "metadata": {},
   "source": [
    "Instalação das bibliotecas"
   ]
  },
  {
   "cell_type": "code",
   "execution_count": 2,
   "metadata": {},
   "outputs": [
    {
     "name": "stdout",
     "output_type": "stream",
     "text": [
      "Requirement already satisfied: bs4 in c:\\users\\aluno\\appdata\\local\\programs\\python\\python310\\lib\\site-packages (0.0.1)\n",
      "Requirement already satisfied: beautifulsoup4 in c:\\users\\aluno\\appdata\\local\\programs\\python\\python310\\lib\\site-packages (from bs4) (4.12.2)\n",
      "Requirement already satisfied: soupsieve>1.2 in c:\\users\\aluno\\appdata\\local\\programs\\python\\python310\\lib\\site-packages (from beautifulsoup4->bs4) (2.4.1)\n",
      "Note: you may need to restart the kernel to use updated packages.\n"
     ]
    }
   ],
   "source": [
    "pip install bs4"
   ]
  },
  {
   "cell_type": "code",
   "execution_count": 3,
   "metadata": {},
   "outputs": [
    {
     "name": "stdout",
     "output_type": "stream",
     "text": [
      "Requirement already satisfied: requests in c:\\users\\aluno\\appdata\\local\\programs\\python\\python310\\lib\\site-packages (2.28.2)\n",
      "Requirement already satisfied: charset-normalizer<4,>=2 in c:\\users\\aluno\\appdata\\local\\programs\\python\\python310\\lib\\site-packages (from requests) (3.1.0)\n",
      "Requirement already satisfied: idna<4,>=2.5 in c:\\users\\aluno\\appdata\\local\\programs\\python\\python310\\lib\\site-packages (from requests) (3.4)\n",
      "Requirement already satisfied: urllib3<1.27,>=1.21.1 in c:\\users\\aluno\\appdata\\local\\programs\\python\\python310\\lib\\site-packages (from requests) (1.26.15)\n",
      "Requirement already satisfied: certifi>=2017.4.17 in c:\\users\\aluno\\appdata\\local\\programs\\python\\python310\\lib\\site-packages (from requests) (2022.12.7)\n",
      "Note: you may need to restart the kernel to use updated packages.\n"
     ]
    }
   ],
   "source": [
    "pip install requests"
   ]
  },
  {
   "cell_type": "code",
   "execution_count": 4,
   "metadata": {},
   "outputs": [
    {
     "name": "stdout",
     "output_type": "stream",
     "text": [
      "Requirement already satisfied: openpyxl in c:\\users\\aluno\\appdata\\local\\programs\\python\\python310\\lib\\site-packages (3.1.2)\n",
      "Requirement already satisfied: et-xmlfile in c:\\users\\aluno\\appdata\\local\\programs\\python\\python310\\lib\\site-packages (from openpyxl) (1.1.0)\n",
      "Note: you may need to restart the kernel to use updated packages.\n"
     ]
    }
   ],
   "source": [
    "pip install openpyxl"
   ]
  },
  {
   "cell_type": "code",
   "execution_count": 5,
   "metadata": {},
   "outputs": [
    {
     "name": "stdout",
     "output_type": "stream",
     "text": [
      "Requirement already satisfied: pandas in c:\\users\\aluno\\appdata\\local\\programs\\python\\python310\\lib\\site-packages (2.0.0)\n",
      "Requirement already satisfied: python-dateutil>=2.8.2 in c:\\users\\aluno\\appdata\\roaming\\python\\python310\\site-packages (from pandas) (2.8.2)\n",
      "Requirement already satisfied: pytz>=2020.1 in c:\\users\\aluno\\appdata\\local\\programs\\python\\python310\\lib\\site-packages (from pandas) (2023.3)\n",
      "Requirement already satisfied: tzdata>=2022.1 in c:\\users\\aluno\\appdata\\local\\programs\\python\\python310\\lib\\site-packages (from pandas) (2023.3)\n",
      "Requirement already satisfied: numpy>=1.21.0 in c:\\users\\aluno\\appdata\\local\\programs\\python\\python310\\lib\\site-packages (from pandas) (1.24.2)\n",
      "Requirement already satisfied: six>=1.5 in c:\\users\\aluno\\appdata\\roaming\\python\\python310\\site-packages (from python-dateutil>=2.8.2->pandas) (1.16.0)\n",
      "Note: you may need to restart the kernel to use updated packages.\n"
     ]
    }
   ],
   "source": [
    "pip install pandas"
   ]
  },
  {
   "attachments": {},
   "cell_type": "markdown",
   "metadata": {},
   "source": [
    "Importando as bibliotecas\n",
    "+ Soup\n",
    "+ Pandas\n",
    "+ requests"
   ]
  },
  {
   "attachments": {},
   "cell_type": "markdown",
   "metadata": {},
   "source": [
    "REQUESTS: Funcionando apenas no python 3.9"
   ]
  },
  {
   "attachments": {},
   "cell_type": "markdown",
   "metadata": {},
   "source": [
    "### Após mudar para o Python 3.9, Rode todos os codigos e instale o kernel que ele vai pedir"
   ]
  },
  {
   "cell_type": "code",
   "execution_count": 6,
   "metadata": {},
   "outputs": [],
   "source": [
    "import pandas as pd\n",
    "import bs4\n",
    "from bs4 import BeautifulSoup\n",
    "import requests\n",
    "headers = {'User-Agent': 'Mozilla/5.0 (Windows NT 10.0; Win64; x64) AppleWebKit/537.36 (KHTML, like Gecko) Chrome/110.0.0.0 Safari/537.36'}"
   ]
  },
  {
   "attachments": {},
   "cell_type": "markdown",
   "metadata": {},
   "source": [
    "### Hora e data atual da pesquisa\n"
   ]
  },
  {
   "cell_type": "code",
   "execution_count": 7,
   "metadata": {},
   "outputs": [
    {
     "name": "stdout",
     "output_type": "stream",
     "text": [
      " quarta-feira, 19 de abril de 2023 \n",
      "19:24\n"
     ]
    }
   ],
   "source": [
    "page4 = requests.get('https://www.google.com/search?q=data&rlz=1C1SQJL_pt-BRBR998BR998&sxsrf=APwXEdcupV6LQAigM1YJ-8DRy9SGmmyOjw%3A1680127416747&ei=uLUkZO6JLYPM1sQP_teriAo&ved=0ahUKEwjuxeiukoL-AhUDppUCHf7rCqEQ4dUDCBA&uact=5&oq=data&gs_lcp=Cgxnd3Mtd2l6LXNlcnAQAzIECCMQJzIECCMQJzIHCAAQigUQQzIOCC4QgAQQsQMQxwEQ0QMyDQgAEIoFELEDEIMBEEMyBwgAEIoFEEMyBQgAEIAEMgsIABCABBCxAxCDATIICAAQgAQQsQMyCwgAEIoFELEDEIMBOgoIABBHENYEELADOgoIABCKBRCwAxBDSgQIQRgAUMsFWMoNYPsSaAFwAXgAgAGDAYgBvwWSAQMwLjaYAQCgAQHIAQrAAQE&sclient=gws-wiz-serp', headers = headers)\n",
    "soup4 = BeautifulSoup(page4.content, 'html.parser')\n",
    "data_atual = soup4.find_all('div', class_=\"vk_bk dDoNo FzvWSb\")[0]\n",
    "print(data_atual.text)\n",
    "\n",
    "page2 = requests.get('https://www.google.com/search?q=hora&oq=hora&aqs=chrome..69i57j0i433i512j0i131i433i457i512j0i402i512j0i512j0i131i433i512j0i512j0i131i433i512j0i512l2.1378j0j1&sourceid=chrome&ie=UTF-8', headers = headers)\n",
    "soup2 = BeautifulSoup(page2.content, 'html.parser')\n",
    "Hora_agora = soup2.find_all('div', class_=\"gsrt vk_bk FzvWSb YwPhnf\")[0]\n",
    "print(Hora_agora.text)"
   ]
  },
  {
   "attachments": {},
   "cell_type": "markdown",
   "metadata": {},
   "source": [
    "### Dollar"
   ]
  },
  {
   "cell_type": "code",
   "execution_count": 8,
   "metadata": {},
   "outputs": [
    {
     "name": "stdout",
     "output_type": "stream",
     "text": [
      "5,08\n"
     ]
    }
   ],
   "source": [
    "\n",
    "page = requests.get('https://www.google.com/search?q=dolar+hoje&rlz=1C1SQJL_pt-BRBR998BR998&oq=dola&aqs=chrome.1.69i57j0i271l3.3519j0j4&sourceid=chrome&ie=UTF-8&dlnr=1&sei=ykoSZKGROs6H5OUPg5KBoAk', headers = headers)\n",
    "soup = BeautifulSoup(page.content, 'html.parser')\n",
    "valor_dolar = soup.find_all('span', class_=\"DFlfde SwHCTb\")[0]\n",
    "print(valor_dolar.text)\n"
   ]
  },
  {
   "attachments": {},
   "cell_type": "markdown",
   "metadata": {},
   "source": [
    "### Aquivo de log para teste do Soup"
   ]
  },
  {
   "cell_type": "code",
   "execution_count": 9,
   "metadata": {},
   "outputs": [
    {
     "name": "stdout",
     "output_type": "stream",
     "text": [
      "\n",
      "______________________________________\n",
      "1 Dollar vale 5,08 reais.\n",
      "19:24,  quarta-feira, 19 de abril de 2023 \n",
      "\n"
     ]
    }
   ],
   "source": [
    "with open('Log.txt', 'a') as arquivo:\n",
    "    arquivo.write(f'\\n______________________________________\\n1 Dollar vale {valor_dolar.text} reais.')\n",
    "    arquivo.write(f'\\n{Hora_agora.text}')\n",
    "    arquivo.write(data_atual.text)\n",
    "    print(f'\\n______________________________________\\n1 Dollar vale {valor_dolar.text} reais.\\n{Hora_agora.text}, {data_atual.text}\\n')"
   ]
  },
  {
   "attachments": {},
   "cell_type": "markdown",
   "metadata": {},
   "source": [
    "### EURO\n"
   ]
  },
  {
   "cell_type": "code",
   "execution_count": 10,
   "metadata": {},
   "outputs": [
    {
     "name": "stdout",
     "output_type": "stream",
     "text": [
      "5,56\n"
     ]
    }
   ],
   "source": [
    "page3 = requests.get('https://www.google.com/search?q=EURO+hoje&rlz=1C1SQJL_pt-BRBR998BR998&sxsrf=APwXEddQfbnRYqRXtmONwf62sU3XcRjDdQ%3A1680725496187&ei=-NUtZK6TC8nX5OUPjJmt8Ag&ved=0ahUKEwiu76ixxpP-AhXJK7kGHYxMC44Q4dUDCA8&uact=5&oq=EURO+hoje&gs_lcp=Cgxnd3Mtd2l6LXNlcnAQAzINCAAQigUQsQMQgwEQQzILCAAQgAQQsQMQgwEyCwgAEIAEELEDEIMBMgsIABCABBCxAxCDATIFCAAQgAQyBQgAEIAEMgUIABCABDIFCAAQgAQyBQgAEIAEMgUIABCABEoECEEYAFAAWOwIYPwdaABwAXgAgAGsB4gBwxiSAQswLjEuNC0xLjEuMpgBAKABAcABAQ&sclient=gws-wiz-serp', headers = headers)\n",
    "soup3 = BeautifulSoup(page3.content, 'html.parser')\n",
    "valor_euro = soup3.find_all('span', class_=\"DFlfde SwHCTb\")[0]\n",
    "print(valor_euro.text)"
   ]
  },
  {
   "cell_type": "code",
   "execution_count": 11,
   "metadata": {},
   "outputs": [
    {
     "name": "stdout",
     "output_type": "stream",
     "text": [
      " quarta-feira, 19 de abril de 2023 \n",
      "19:26\n"
     ]
    }
   ],
   "source": [
    "page4 = requests.get('https://www.google.com/search?q=data&rlz=1C1SQJL_pt-BRBR998BR998&sxsrf=APwXEdcupV6LQAigM1YJ-8DRy9SGmmyOjw%3A1680127416747&ei=uLUkZO6JLYPM1sQP_teriAo&ved=0ahUKEwjuxeiukoL-AhUDppUCHf7rCqEQ4dUDCBA&uact=5&oq=data&gs_lcp=Cgxnd3Mtd2l6LXNlcnAQAzIECCMQJzIECCMQJzIHCAAQigUQQzIOCC4QgAQQsQMQxwEQ0QMyDQgAEIoFELEDEIMBEEMyBwgAEIoFEEMyBQgAEIAEMgsIABCABBCxAxCDATIICAAQgAQQsQMyCwgAEIoFELEDEIMBOgoIABBHENYEELADOgoIABCKBRCwAxBDSgQIQRgAUMsFWMoNYPsSaAFwAXgAgAGDAYgBvwWSAQMwLjaYAQCgAQHIAQrAAQE&sclient=gws-wiz-serp', headers = headers)\n",
    "soup4 = BeautifulSoup(page4.content, 'html.parser')\n",
    "data_atual = soup4.find_all('div', class_=\"vk_bk dDoNo FzvWSb\")[0]\n",
    "print(data_atual.text)\n",
    "\n",
    "page2 = requests.get('https://www.google.com/search?q=hora&oq=hora&aqs=chrome..69i57j0i433i512j0i131i433i457i512j0i402i512j0i512j0i131i433i512j0i512j0i131i433i512j0i512l2.1378j0j1&sourceid=chrome&ie=UTF-8', headers = headers)\n",
    "soup2 = BeautifulSoup(page2.content, 'html.parser')\n",
    "Hora_agora = soup2.find_all('div', class_=\"gsrt vk_bk FzvWSb YwPhnf\")[0]\n",
    "print(Hora_agora.text)"
   ]
  },
  {
   "cell_type": "code",
   "execution_count": 12,
   "metadata": {},
   "outputs": [
    {
     "name": "stdout",
     "output_type": "stream",
     "text": [
      "\n",
      "______________________________________\n",
      "1 Euro Vale 5,56 reais.\n",
      "19:26,  quarta-feira, 19 de abril de 2023 \n",
      "\n"
     ]
    }
   ],
   "source": [
    "with open('Log.txt', 'a') as arquivo:\n",
    "    arquivo.write(f'\\n______________________________________\\n1 Euro vale {valor_euro.text} reais.')\n",
    "    arquivo.write(f'\\n{Hora_agora.text}')\n",
    "    arquivo.write(data_atual.text)\n",
    "    print(f'\\n______________________________________\\n1 Euro Vale {valor_euro.text} reais.\\n{Hora_agora.text}, {data_atual.text}\\n')"
   ]
  },
  {
   "attachments": {},
   "cell_type": "markdown",
   "metadata": {},
   "source": [
    "### Yen"
   ]
  },
  {
   "cell_type": "code",
   "execution_count": 13,
   "metadata": {},
   "outputs": [
    {
     "name": "stdout",
     "output_type": "stream",
     "text": [
      "0,038\n"
     ]
    }
   ],
   "source": [
    "page5 = requests.get('https://www.google.com/search?q=iene+hoje&rlz=1C1SQJL_pt-BRBR998BR998&sxsrf=APwXEdebEgkemkBO8HfOuMs8ZABNcQ9Djw%3A1680726613683&ei=VdotZPWwKbOK5OUPk_KeyAI&oq=yen+hoje&gs_lcp=Cgxnd3Mtd2l6LXNlcnAQARgAMg0IABCKBRCxAxCDARBDMgcIABCABBAKMgcIABCABBAKMgcIABCKBRBDMgcIABCABBAKMggIABAHEB4QCjIHCAAQgAQQCjIICAAQBxAeEAoyCwgAEAcQHhDxBBAKMggIABAHEB4QCjoPCC4QgAQQDRCxAxAKEOoEOgYIABAHEB46GgguEIAEEA0QsQMQChDqBBDcBBDeBBDgBBgBSgQIQRgAUABYhwVgpiJoAHABeACAAZ8BiAGeA5IBAzAuM5gBAKABAcABAdoBBggBEAEYFA&sclient=gws-wiz-serp', headers = headers)\n",
    "soup5 = BeautifulSoup(page5.content, 'html.parser')\n",
    "valor_yen = soup5.find_all('span', class_=\"DFlfde SwHCTb\")[0]\n",
    "print(valor_yen.text)"
   ]
  },
  {
   "cell_type": "code",
   "execution_count": 14,
   "metadata": {},
   "outputs": [
    {
     "name": "stdout",
     "output_type": "stream",
     "text": [
      " quarta-feira, 19 de abril de 2023 \n",
      "19:26\n"
     ]
    }
   ],
   "source": [
    "#Celula contendo data e hora atual\n",
    "page4 = requests.get('https://www.google.com/search?q=data&rlz=1C1SQJL_pt-BRBR998BR998&sxsrf=APwXEdcupV6LQAigM1YJ-8DRy9SGmmyOjw%3A1680127416747&ei=uLUkZO6JLYPM1sQP_teriAo&ved=0ahUKEwjuxeiukoL-AhUDppUCHf7rCqEQ4dUDCBA&uact=5&oq=data&gs_lcp=Cgxnd3Mtd2l6LXNlcnAQAzIECCMQJzIECCMQJzIHCAAQigUQQzIOCC4QgAQQsQMQxwEQ0QMyDQgAEIoFELEDEIMBEEMyBwgAEIoFEEMyBQgAEIAEMgsIABCABBCxAxCDATIICAAQgAQQsQMyCwgAEIoFELEDEIMBOgoIABBHENYEELADOgoIABCKBRCwAxBDSgQIQRgAUMsFWMoNYPsSaAFwAXgAgAGDAYgBvwWSAQMwLjaYAQCgAQHIAQrAAQE&sclient=gws-wiz-serp', headers = headers)\n",
    "soup4 = BeautifulSoup(page4.content, 'html.parser')\n",
    "data_atual = soup4.find_all('div', class_=\"vk_bk dDoNo FzvWSb\")[0]\n",
    "print(data_atual.text)\n",
    "\n",
    "page2 = requests.get('https://www.google.com/search?q=hora&oq=hora&aqs=chrome..69i57j0i433i512j0i131i433i457i512j0i402i512j0i512j0i131i433i512j0i512j0i131i433i512j0i512l2.1378j0j1&sourceid=chrome&ie=UTF-8', headers = headers)\n",
    "soup2 = BeautifulSoup(page2.content, 'html.parser')\n",
    "Hora_agora = soup2.find_all('div', class_=\"gsrt vk_bk FzvWSb YwPhnf\")[0]\n",
    "print(Hora_agora.text)"
   ]
  },
  {
   "cell_type": "code",
   "execution_count": 15,
   "metadata": {},
   "outputs": [
    {
     "name": "stdout",
     "output_type": "stream",
     "text": [
      "\n",
      "______________________________________\n",
      "1 Iene  Vale 0,038 reais.\n",
      "19:26,  quarta-feira, 19 de abril de 2023 \n",
      "\n"
     ]
    }
   ],
   "source": [
    "with open('Log.txt', 'a') as arquivo:\n",
    "    arquivo.write(f'\\n______________________________________\\n1 Iene  vale {valor_yen.text} reais.')\n",
    "    arquivo.write(f'\\n{Hora_agora.text}')\n",
    "    arquivo.write(data_atual.text)\n",
    "    print(f'\\n______________________________________\\n1 Iene  Vale {valor_yen.text} reais.\\n{Hora_agora.text}, {data_atual.text}\\n')"
   ]
  },
  {
   "attachments": {},
   "cell_type": "markdown",
   "metadata": {},
   "source": [
    "### Yuan Chinês\n"
   ]
  },
  {
   "cell_type": "code",
   "execution_count": 16,
   "metadata": {},
   "outputs": [
    {
     "name": "stdout",
     "output_type": "stream",
     "text": [
      "0,74\n"
     ]
    }
   ],
   "source": [
    "page6 = requests.get('https://www.google.com/search?q=yuan+hoje&rlz=1C1SQJL_pt-BRBR998BR998&sxsrf=APwXEdfrtzGxfxtaaWsS8DyoRLzNpihc1w%3A1680727688378&ei=iN4tZJDhFrng5OUPj7q8sAc&oq=yuan+hoje&gs_lcp=Cgxnd3Mtd2l6LXNlcnAQARgAMgsIABCABBCxAxCDATIGCAAQBxAeMgYIABAHEB4yCAgAEAcQHhAKMgYIABAHEB4yBggAEAcQHjIGCAAQBRAeMggIABAFEAcQHjIGCAAQBRAeMgYIABAFEB5KBAhBGABQAFgAYNUMaABwAXgAgAF-iAF-kgEDMC4xmAEAoAECoAEBwAEB&sclient=gws-wiz-serp', headers = headers)\n",
    "soup6 = BeautifulSoup(page6.content, 'html.parser')\n",
    "valor_yuan = soup6.find_all('span', class_=\"DFlfde SwHCTb\")[0]\n",
    "print(valor_yuan.text)"
   ]
  },
  {
   "cell_type": "code",
   "execution_count": 17,
   "metadata": {},
   "outputs": [
    {
     "name": "stdout",
     "output_type": "stream",
     "text": [
      " quarta-feira, 19 de abril de 2023 \n",
      "19:27\n"
     ]
    }
   ],
   "source": [
    "#Celula contendo data e hora atual\n",
    "page4 = requests.get('https://www.google.com/search?q=data&rlz=1C1SQJL_pt-BRBR998BR998&sxsrf=APwXEdcupV6LQAigM1YJ-8DRy9SGmmyOjw%3A1680127416747&ei=uLUkZO6JLYPM1sQP_teriAo&ved=0ahUKEwjuxeiukoL-AhUDppUCHf7rCqEQ4dUDCBA&uact=5&oq=data&gs_lcp=Cgxnd3Mtd2l6LXNlcnAQAzIECCMQJzIECCMQJzIHCAAQigUQQzIOCC4QgAQQsQMQxwEQ0QMyDQgAEIoFELEDEIMBEEMyBwgAEIoFEEMyBQgAEIAEMgsIABCABBCxAxCDATIICAAQgAQQsQMyCwgAEIoFELEDEIMBOgoIABBHENYEELADOgoIABCKBRCwAxBDSgQIQRgAUMsFWMoNYPsSaAFwAXgAgAGDAYgBvwWSAQMwLjaYAQCgAQHIAQrAAQE&sclient=gws-wiz-serp', headers = headers)\n",
    "soup4 = BeautifulSoup(page4.content, 'html.parser')\n",
    "data_atual = soup4.find_all('div', class_=\"vk_bk dDoNo FzvWSb\")[0]\n",
    "print(data_atual.text)\n",
    "\n",
    "page2 = requests.get('https://www.google.com/search?q=hora&oq=hora&aqs=chrome..69i57j0i433i512j0i131i433i457i512j0i402i512j0i512j0i131i433i512j0i512j0i131i433i512j0i512l2.1378j0j1&sourceid=chrome&ie=UTF-8', headers = headers)\n",
    "soup2 = BeautifulSoup(page2.content, 'html.parser')\n",
    "Hora_agora = soup2.find_all('div', class_=\"gsrt vk_bk FzvWSb YwPhnf\")[0]\n",
    "print(Hora_agora.text)"
   ]
  },
  {
   "cell_type": "code",
   "execution_count": 18,
   "metadata": {},
   "outputs": [
    {
     "name": "stdout",
     "output_type": "stream",
     "text": [
      "\n",
      "______________________________________\n",
      "1 Yuan Chinês Vale 0,74 reais.\n",
      "19:27,  quarta-feira, 19 de abril de 2023 \n",
      "\n"
     ]
    }
   ],
   "source": [
    "with open('Log.txt', 'a') as arquivo:\n",
    "    arquivo.write(f'\\n______________________________________\\n1 Yuan Chinês vale {valor_yuan.text} reais.')\n",
    "    arquivo.write(f'\\n{Hora_agora.text}')\n",
    "    arquivo.write(data_atual.text)\n",
    "    print(f'\\n______________________________________\\n1 Yuan Chinês Vale {valor_yuan.text} reais.\\n{Hora_agora.text}, {data_atual.text}\\n')"
   ]
  },
  {
   "attachments": {},
   "cell_type": "markdown",
   "metadata": {},
   "source": [
    "### Operando com PANDAS"
   ]
  },
  {
   "attachments": {},
   "cell_type": "markdown",
   "metadata": {},
   "source": [
    "### Dataframe contendo a raspagem de dados    \n",
    "+ Dollar\n",
    "+ Euro\n",
    "+ Yen\n",
    "+ Yuan"
   ]
  },
  {
   "cell_type": "code",
   "execution_count": 19,
   "metadata": {},
   "outputs": [],
   "source": [
    "with open('Log1.txt', 'w') as arquivo:\n",
    "    arquivo.write(valor_dolar.text)\n",
    "    arquivo.write(valor_euro.text)\n",
    "    arquivo.write(valor_yen.text)\n",
    "    arquivo.write(valor_yuan.text)"
   ]
  },
  {
   "cell_type": "code",
   "execution_count": 20,
   "metadata": {},
   "outputs": [
    {
     "data": {
      "text/html": [
       "<div>\n",
       "<style scoped>\n",
       "    .dataframe tbody tr th:only-of-type {\n",
       "        vertical-align: middle;\n",
       "    }\n",
       "\n",
       "    .dataframe tbody tr th {\n",
       "        vertical-align: top;\n",
       "    }\n",
       "\n",
       "    .dataframe thead th {\n",
       "        text-align: right;\n",
       "    }\n",
       "</style>\n",
       "<table border=\"1\" class=\"dataframe\">\n",
       "  <thead>\n",
       "    <tr style=\"text-align: right;\">\n",
       "      <th></th>\n",
       "      <th>Moeda</th>\n",
       "      <th>Valor(R$)</th>\n",
       "      <th>Hora</th>\n",
       "      <th>Data</th>\n",
       "    </tr>\n",
       "  </thead>\n",
       "  <tbody>\n",
       "    <tr>\n",
       "      <th>0</th>\n",
       "      <td>Dollar</td>\n",
       "      <td>5,08</td>\n",
       "      <td>19:27</td>\n",
       "      <td>quarta-feira, 19 de abril de 2023</td>\n",
       "    </tr>\n",
       "    <tr>\n",
       "      <th>1</th>\n",
       "      <td>Euro</td>\n",
       "      <td>5,56</td>\n",
       "      <td>19:27</td>\n",
       "      <td>quarta-feira, 19 de abril de 2023</td>\n",
       "    </tr>\n",
       "    <tr>\n",
       "      <th>2</th>\n",
       "      <td>Iene</td>\n",
       "      <td>0,038</td>\n",
       "      <td>19:27</td>\n",
       "      <td>quarta-feira, 19 de abril de 2023</td>\n",
       "    </tr>\n",
       "    <tr>\n",
       "      <th>3</th>\n",
       "      <td>Yuan Chinês</td>\n",
       "      <td>0,74</td>\n",
       "      <td>19:27</td>\n",
       "      <td>quarta-feira, 19 de abril de 2023</td>\n",
       "    </tr>\n",
       "  </tbody>\n",
       "</table>\n",
       "</div>"
      ],
      "text/plain": [
       "         Moeda Valor(R$)   Hora                                 Data\n",
       "0       Dollar      5,08  19:27   quarta-feira, 19 de abril de 2023 \n",
       "1         Euro      5,56  19:27   quarta-feira, 19 de abril de 2023 \n",
       "2         Iene     0,038  19:27   quarta-feira, 19 de abril de 2023 \n",
       "3  Yuan Chinês      0,74  19:27   quarta-feira, 19 de abril de 2023 "
      ]
     },
     "metadata": {},
     "output_type": "display_data"
    }
   ],
   "source": [
    "Moedeiro = {'Moeda' :['Dollar','Euro','Iene','Yuan Chinês'],\n",
    "            'Valor(R$)' :[valor_dolar.text, valor_euro.text, valor_yen.text, valor_yuan.text],\n",
    "            'Hora' :[Hora_agora.text,Hora_agora.text,Hora_agora.text,Hora_agora.text],\n",
    "            'Data' :[data_atual.text,data_atual.text,data_atual.text,data_atual.text],    \n",
    "}\n",
    "moedas_df = pd.DataFrame(Moedeiro)\n",
    "display(moedas_df)  #Mostrando os valores de moeda e hora no DataFrame."
   ]
  },
  {
   "cell_type": "code",
   "execution_count": 21,
   "metadata": {},
   "outputs": [
    {
     "data": {
      "text/html": [
       "<div>\n",
       "<style scoped>\n",
       "    .dataframe tbody tr th:only-of-type {\n",
       "        vertical-align: middle;\n",
       "    }\n",
       "\n",
       "    .dataframe tbody tr th {\n",
       "        vertical-align: top;\n",
       "    }\n",
       "\n",
       "    .dataframe thead th {\n",
       "        text-align: right;\n",
       "    }\n",
       "</style>\n",
       "<table border=\"1\" class=\"dataframe\">\n",
       "  <thead>\n",
       "    <tr style=\"text-align: right;\">\n",
       "      <th></th>\n",
       "      <th>Unnamed: 0</th>\n",
       "      <th>Moeda</th>\n",
       "      <th>Valor(R$)</th>\n",
       "      <th>Hora</th>\n",
       "      <th>Data</th>\n",
       "    </tr>\n",
       "  </thead>\n",
       "  <tbody>\n",
       "    <tr>\n",
       "      <th>0</th>\n",
       "      <td>0</td>\n",
       "      <td>Dollar</td>\n",
       "      <td>5,08</td>\n",
       "      <td>19:16</td>\n",
       "      <td>quarta-feira, 19 de abril de 2023</td>\n",
       "    </tr>\n",
       "    <tr>\n",
       "      <th>1</th>\n",
       "      <td>1</td>\n",
       "      <td>Euro</td>\n",
       "      <td>5,56</td>\n",
       "      <td>19:16</td>\n",
       "      <td>quarta-feira, 19 de abril de 2023</td>\n",
       "    </tr>\n",
       "    <tr>\n",
       "      <th>2</th>\n",
       "      <td>2</td>\n",
       "      <td>Iene</td>\n",
       "      <td>0,038</td>\n",
       "      <td>19:16</td>\n",
       "      <td>quarta-feira, 19 de abril de 2023</td>\n",
       "    </tr>\n",
       "    <tr>\n",
       "      <th>3</th>\n",
       "      <td>3</td>\n",
       "      <td>Yuan Chinês</td>\n",
       "      <td>0,74</td>\n",
       "      <td>19:16</td>\n",
       "      <td>quarta-feira, 19 de abril de 2023</td>\n",
       "    </tr>\n",
       "    <tr>\n",
       "      <th>4</th>\n",
       "      <td>4</td>\n",
       "      <td>Dollar</td>\n",
       "      <td>5,08</td>\n",
       "      <td>19:08</td>\n",
       "      <td>quarta-feira, 19 de abril de 2023</td>\n",
       "    </tr>\n",
       "    <tr>\n",
       "      <th>...</th>\n",
       "      <td>...</td>\n",
       "      <td>...</td>\n",
       "      <td>...</td>\n",
       "      <td>...</td>\n",
       "      <td>...</td>\n",
       "    </tr>\n",
       "    <tr>\n",
       "      <th>87</th>\n",
       "      <td>87</td>\n",
       "      <td>Yuan Chinês</td>\n",
       "      <td>0,73</td>\n",
       "      <td>21:20</td>\n",
       "      <td>quarta-feira, 5 de abril de 2023</td>\n",
       "    </tr>\n",
       "    <tr>\n",
       "      <th>88</th>\n",
       "      <td>88</td>\n",
       "      <td>Dollar</td>\n",
       "      <td>5,03</td>\n",
       "      <td>21:20</td>\n",
       "      <td>quarta-feira, 5 de abril de 2023</td>\n",
       "    </tr>\n",
       "    <tr>\n",
       "      <th>89</th>\n",
       "      <td>89</td>\n",
       "      <td>Euro</td>\n",
       "      <td>5,49</td>\n",
       "      <td>21:20</td>\n",
       "      <td>quarta-feira, 5 de abril de 2023</td>\n",
       "    </tr>\n",
       "    <tr>\n",
       "      <th>90</th>\n",
       "      <td>90</td>\n",
       "      <td>Iene</td>\n",
       "      <td>0,038</td>\n",
       "      <td>21:20</td>\n",
       "      <td>quarta-feira, 5 de abril de 2023</td>\n",
       "    </tr>\n",
       "    <tr>\n",
       "      <th>91</th>\n",
       "      <td>91</td>\n",
       "      <td>Yuan Chinês</td>\n",
       "      <td>0,73</td>\n",
       "      <td>21:20</td>\n",
       "      <td>quarta-feira, 5 de abril de 2023</td>\n",
       "    </tr>\n",
       "  </tbody>\n",
       "</table>\n",
       "<p>92 rows × 5 columns</p>\n",
       "</div>"
      ],
      "text/plain": [
       "    Unnamed: 0        Moeda Valor(R$)   Hora   \n",
       "0            0       Dollar      5,08  19:16  \\\n",
       "1            1         Euro      5,56  19:16   \n",
       "2            2         Iene     0,038  19:16   \n",
       "3            3  Yuan Chinês      0,74  19:16   \n",
       "4            4       Dollar      5,08  19:08   \n",
       "..         ...          ...       ...    ...   \n",
       "87          87  Yuan Chinês      0,73  21:20   \n",
       "88          88       Dollar      5,03  21:20   \n",
       "89          89         Euro      5,49  21:20   \n",
       "90          90         Iene     0,038  21:20   \n",
       "91          91  Yuan Chinês      0,73  21:20   \n",
       "\n",
       "                                   Data  \n",
       "0    quarta-feira, 19 de abril de 2023   \n",
       "1    quarta-feira, 19 de abril de 2023   \n",
       "2    quarta-feira, 19 de abril de 2023   \n",
       "3    quarta-feira, 19 de abril de 2023   \n",
       "4    quarta-feira, 19 de abril de 2023   \n",
       "..                                  ...  \n",
       "87    quarta-feira, 5 de abril de 2023   \n",
       "88    quarta-feira, 5 de abril de 2023   \n",
       "89    quarta-feira, 5 de abril de 2023   \n",
       "90    quarta-feira, 5 de abril de 2023   \n",
       "91    quarta-feira, 5 de abril de 2023   \n",
       "\n",
       "[92 rows x 5 columns]"
      ]
     },
     "metadata": {},
     "output_type": "display_data"
    }
   ],
   "source": [
    "Moedeiro_A = pd.read_excel('Relatório.xlsx')\n",
    "moedas1_df = pd.DataFrame(Moedeiro_A)\n",
    "display(moedas1_df)"
   ]
  },
  {
   "attachments": {},
   "cell_type": "markdown",
   "metadata": {},
   "source": [
    "### Hora de Salvar dados"
   ]
  },
  {
   "cell_type": "code",
   "execution_count": 22,
   "metadata": {},
   "outputs": [
    {
     "data": {
      "text/html": [
       "<div>\n",
       "<style scoped>\n",
       "    .dataframe tbody tr th:only-of-type {\n",
       "        vertical-align: middle;\n",
       "    }\n",
       "\n",
       "    .dataframe tbody tr th {\n",
       "        vertical-align: top;\n",
       "    }\n",
       "\n",
       "    .dataframe thead th {\n",
       "        text-align: right;\n",
       "    }\n",
       "</style>\n",
       "<table border=\"1\" class=\"dataframe\">\n",
       "  <thead>\n",
       "    <tr style=\"text-align: right;\">\n",
       "      <th></th>\n",
       "      <th>Moeda</th>\n",
       "      <th>Valor(R$)</th>\n",
       "      <th>Hora</th>\n",
       "      <th>Data</th>\n",
       "      <th>Unnamed: 0</th>\n",
       "    </tr>\n",
       "  </thead>\n",
       "  <tbody>\n",
       "    <tr>\n",
       "      <th>0</th>\n",
       "      <td>Dollar</td>\n",
       "      <td>5,08</td>\n",
       "      <td>19:27</td>\n",
       "      <td>quarta-feira, 19 de abril de 2023</td>\n",
       "      <td>NaN</td>\n",
       "    </tr>\n",
       "    <tr>\n",
       "      <th>1</th>\n",
       "      <td>Euro</td>\n",
       "      <td>5,56</td>\n",
       "      <td>19:27</td>\n",
       "      <td>quarta-feira, 19 de abril de 2023</td>\n",
       "      <td>NaN</td>\n",
       "    </tr>\n",
       "    <tr>\n",
       "      <th>2</th>\n",
       "      <td>Iene</td>\n",
       "      <td>0,038</td>\n",
       "      <td>19:27</td>\n",
       "      <td>quarta-feira, 19 de abril de 2023</td>\n",
       "      <td>NaN</td>\n",
       "    </tr>\n",
       "    <tr>\n",
       "      <th>3</th>\n",
       "      <td>Yuan Chinês</td>\n",
       "      <td>0,74</td>\n",
       "      <td>19:27</td>\n",
       "      <td>quarta-feira, 19 de abril de 2023</td>\n",
       "      <td>NaN</td>\n",
       "    </tr>\n",
       "    <tr>\n",
       "      <th>4</th>\n",
       "      <td>Dollar</td>\n",
       "      <td>5,08</td>\n",
       "      <td>19:16</td>\n",
       "      <td>quarta-feira, 19 de abril de 2023</td>\n",
       "      <td>0.0</td>\n",
       "    </tr>\n",
       "    <tr>\n",
       "      <th>...</th>\n",
       "      <td>...</td>\n",
       "      <td>...</td>\n",
       "      <td>...</td>\n",
       "      <td>...</td>\n",
       "      <td>...</td>\n",
       "    </tr>\n",
       "    <tr>\n",
       "      <th>91</th>\n",
       "      <td>Yuan Chinês</td>\n",
       "      <td>0,73</td>\n",
       "      <td>21:20</td>\n",
       "      <td>quarta-feira, 5 de abril de 2023</td>\n",
       "      <td>87.0</td>\n",
       "    </tr>\n",
       "    <tr>\n",
       "      <th>92</th>\n",
       "      <td>Dollar</td>\n",
       "      <td>5,03</td>\n",
       "      <td>21:20</td>\n",
       "      <td>quarta-feira, 5 de abril de 2023</td>\n",
       "      <td>88.0</td>\n",
       "    </tr>\n",
       "    <tr>\n",
       "      <th>93</th>\n",
       "      <td>Euro</td>\n",
       "      <td>5,49</td>\n",
       "      <td>21:20</td>\n",
       "      <td>quarta-feira, 5 de abril de 2023</td>\n",
       "      <td>89.0</td>\n",
       "    </tr>\n",
       "    <tr>\n",
       "      <th>94</th>\n",
       "      <td>Iene</td>\n",
       "      <td>0,038</td>\n",
       "      <td>21:20</td>\n",
       "      <td>quarta-feira, 5 de abril de 2023</td>\n",
       "      <td>90.0</td>\n",
       "    </tr>\n",
       "    <tr>\n",
       "      <th>95</th>\n",
       "      <td>Yuan Chinês</td>\n",
       "      <td>0,73</td>\n",
       "      <td>21:20</td>\n",
       "      <td>quarta-feira, 5 de abril de 2023</td>\n",
       "      <td>91.0</td>\n",
       "    </tr>\n",
       "  </tbody>\n",
       "</table>\n",
       "<p>96 rows × 5 columns</p>\n",
       "</div>"
      ],
      "text/plain": [
       "          Moeda Valor(R$)   Hora                                 Data   \n",
       "0        Dollar      5,08  19:27   quarta-feira, 19 de abril de 2023   \\\n",
       "1          Euro      5,56  19:27   quarta-feira, 19 de abril de 2023    \n",
       "2          Iene     0,038  19:27   quarta-feira, 19 de abril de 2023    \n",
       "3   Yuan Chinês      0,74  19:27   quarta-feira, 19 de abril de 2023    \n",
       "4        Dollar      5,08  19:16   quarta-feira, 19 de abril de 2023    \n",
       "..          ...       ...    ...                                  ...   \n",
       "91  Yuan Chinês      0,73  21:20    quarta-feira, 5 de abril de 2023    \n",
       "92       Dollar      5,03  21:20    quarta-feira, 5 de abril de 2023    \n",
       "93         Euro      5,49  21:20    quarta-feira, 5 de abril de 2023    \n",
       "94         Iene     0,038  21:20    quarta-feira, 5 de abril de 2023    \n",
       "95  Yuan Chinês      0,73  21:20    quarta-feira, 5 de abril de 2023    \n",
       "\n",
       "    Unnamed: 0  \n",
       "0          NaN  \n",
       "1          NaN  \n",
       "2          NaN  \n",
       "3          NaN  \n",
       "4          0.0  \n",
       "..         ...  \n",
       "91        87.0  \n",
       "92        88.0  \n",
       "93        89.0  \n",
       "94        90.0  \n",
       "95        91.0  \n",
       "\n",
       "[96 rows x 5 columns]"
      ]
     },
     "metadata": {},
     "output_type": "display_data"
    }
   ],
   "source": [
    "#Moedeiro append ao DataFrame\n",
    "moedas_df = pd.concat([moedas_df,moedas1_df], ignore_index=True)\n",
    "display(moedas_df)\n",
    "moedas_df.drop([\"Unnamed: 0\"], axis=1, inplace=True)"
   ]
  },
  {
   "cell_type": "code",
   "execution_count": 23,
   "metadata": {},
   "outputs": [
    {
     "data": {
      "text/html": [
       "<div>\n",
       "<style scoped>\n",
       "    .dataframe tbody tr th:only-of-type {\n",
       "        vertical-align: middle;\n",
       "    }\n",
       "\n",
       "    .dataframe tbody tr th {\n",
       "        vertical-align: top;\n",
       "    }\n",
       "\n",
       "    .dataframe thead th {\n",
       "        text-align: right;\n",
       "    }\n",
       "</style>\n",
       "<table border=\"1\" class=\"dataframe\">\n",
       "  <thead>\n",
       "    <tr style=\"text-align: right;\">\n",
       "      <th></th>\n",
       "      <th>Moeda</th>\n",
       "      <th>Valor(R$)</th>\n",
       "      <th>Hora</th>\n",
       "      <th>Data</th>\n",
       "    </tr>\n",
       "  </thead>\n",
       "  <tbody>\n",
       "    <tr>\n",
       "      <th>0</th>\n",
       "      <td>Dollar</td>\n",
       "      <td>5,08</td>\n",
       "      <td>19:27</td>\n",
       "      <td>quarta-feira, 19 de abril de 2023</td>\n",
       "    </tr>\n",
       "    <tr>\n",
       "      <th>1</th>\n",
       "      <td>Euro</td>\n",
       "      <td>5,56</td>\n",
       "      <td>19:27</td>\n",
       "      <td>quarta-feira, 19 de abril de 2023</td>\n",
       "    </tr>\n",
       "    <tr>\n",
       "      <th>2</th>\n",
       "      <td>Iene</td>\n",
       "      <td>0,038</td>\n",
       "      <td>19:27</td>\n",
       "      <td>quarta-feira, 19 de abril de 2023</td>\n",
       "    </tr>\n",
       "    <tr>\n",
       "      <th>3</th>\n",
       "      <td>Yuan Chinês</td>\n",
       "      <td>0,74</td>\n",
       "      <td>19:27</td>\n",
       "      <td>quarta-feira, 19 de abril de 2023</td>\n",
       "    </tr>\n",
       "    <tr>\n",
       "      <th>4</th>\n",
       "      <td>Dollar</td>\n",
       "      <td>5,08</td>\n",
       "      <td>19:16</td>\n",
       "      <td>quarta-feira, 19 de abril de 2023</td>\n",
       "    </tr>\n",
       "    <tr>\n",
       "      <th>...</th>\n",
       "      <td>...</td>\n",
       "      <td>...</td>\n",
       "      <td>...</td>\n",
       "      <td>...</td>\n",
       "    </tr>\n",
       "    <tr>\n",
       "      <th>91</th>\n",
       "      <td>Yuan Chinês</td>\n",
       "      <td>0,73</td>\n",
       "      <td>21:20</td>\n",
       "      <td>quarta-feira, 5 de abril de 2023</td>\n",
       "    </tr>\n",
       "    <tr>\n",
       "      <th>92</th>\n",
       "      <td>Dollar</td>\n",
       "      <td>5,03</td>\n",
       "      <td>21:20</td>\n",
       "      <td>quarta-feira, 5 de abril de 2023</td>\n",
       "    </tr>\n",
       "    <tr>\n",
       "      <th>93</th>\n",
       "      <td>Euro</td>\n",
       "      <td>5,49</td>\n",
       "      <td>21:20</td>\n",
       "      <td>quarta-feira, 5 de abril de 2023</td>\n",
       "    </tr>\n",
       "    <tr>\n",
       "      <th>94</th>\n",
       "      <td>Iene</td>\n",
       "      <td>0,038</td>\n",
       "      <td>21:20</td>\n",
       "      <td>quarta-feira, 5 de abril de 2023</td>\n",
       "    </tr>\n",
       "    <tr>\n",
       "      <th>95</th>\n",
       "      <td>Yuan Chinês</td>\n",
       "      <td>0,73</td>\n",
       "      <td>21:20</td>\n",
       "      <td>quarta-feira, 5 de abril de 2023</td>\n",
       "    </tr>\n",
       "  </tbody>\n",
       "</table>\n",
       "<p>96 rows × 4 columns</p>\n",
       "</div>"
      ],
      "text/plain": [
       "          Moeda Valor(R$)   Hora                                 Data\n",
       "0        Dollar      5,08  19:27   quarta-feira, 19 de abril de 2023 \n",
       "1          Euro      5,56  19:27   quarta-feira, 19 de abril de 2023 \n",
       "2          Iene     0,038  19:27   quarta-feira, 19 de abril de 2023 \n",
       "3   Yuan Chinês      0,74  19:27   quarta-feira, 19 de abril de 2023 \n",
       "4        Dollar      5,08  19:16   quarta-feira, 19 de abril de 2023 \n",
       "..          ...       ...    ...                                  ...\n",
       "91  Yuan Chinês      0,73  21:20    quarta-feira, 5 de abril de 2023 \n",
       "92       Dollar      5,03  21:20    quarta-feira, 5 de abril de 2023 \n",
       "93         Euro      5,49  21:20    quarta-feira, 5 de abril de 2023 \n",
       "94         Iene     0,038  21:20    quarta-feira, 5 de abril de 2023 \n",
       "95  Yuan Chinês      0,73  21:20    quarta-feira, 5 de abril de 2023 \n",
       "\n",
       "[96 rows x 4 columns]"
      ]
     },
     "metadata": {},
     "output_type": "display_data"
    }
   ],
   "source": [
    "\n",
    "display(moedas_df)"
   ]
  },
  {
   "cell_type": "code",
   "execution_count": 24,
   "metadata": {},
   "outputs": [],
   "source": [
    "  #Relatando os valores de moeda e hora no DataFrame.\n",
    "with pd.ExcelWriter(\"Relatório.xlsx\", mode=\"w\", engine=\"openpyxl\") as writer:\n",
    "    moedas_df.to_excel(writer)  "
   ]
  }
 ],
 "metadata": {
  "kernelspec": {
   "display_name": "Python 3.10.6 64-bit",
   "language": "python",
   "name": "python3"
  },
  "language_info": {
   "codemirror_mode": {
    "name": "ipython",
    "version": 3
   },
   "file_extension": ".py",
   "mimetype": "text/x-python",
   "name": "python",
   "nbconvert_exporter": "python",
   "pygments_lexer": "ipython3",
   "version": "3.10.6"
  },
  "orig_nbformat": 4,
  "vscode": {
   "interpreter": {
    "hash": "8fee86138af1eb0db027abd7ae9811a7a68978550fae5e6e8a2fd892a05f89b8"
   }
  }
 },
 "nbformat": 4,
 "nbformat_minor": 2
}
