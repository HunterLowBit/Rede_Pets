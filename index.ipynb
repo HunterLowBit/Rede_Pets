{
 "cells": [
  {
   "attachments": {},
   "cell_type": "markdown",
   "metadata": {},
   "source": [
    "### Instalar No VSCODE as extensões \"Jupyter\" e \"Python\" para rodar tudo"
   ]
  },
  {
   "attachments": {},
   "cell_type": "markdown",
   "metadata": {},
   "source": [
    "Instalação das bibliotecas"
   ]
  },
  {
   "cell_type": "code",
   "execution_count": 126,
   "metadata": {},
   "outputs": [
    {
     "name": "stdout",
     "output_type": "stream",
     "text": [
      "Requirement already satisfied: bs4 in c:\\users\\robso\\appdata\\local\\packages\\pythonsoftwarefoundation.python.3.9_qbz5n2kfra8p0\\localcache\\local-packages\\python39\\site-packages (0.0.1)Note: you may need to restart the kernel to use updated packages.\n",
      "\n",
      "Requirement already satisfied: beautifulsoup4 in c:\\users\\robso\\appdata\\local\\packages\\pythonsoftwarefoundation.python.3.9_qbz5n2kfra8p0\\localcache\\local-packages\\python39\\site-packages (from bs4) (4.10.0)\n",
      "Requirement already satisfied: soupsieve>1.2 in c:\\users\\robso\\appdata\\local\\packages\\pythonsoftwarefoundation.python.3.9_qbz5n2kfra8p0\\localcache\\local-packages\\python39\\site-packages (from beautifulsoup4->bs4) (2.3.1)\n"
     ]
    }
   ],
   "source": [
    "pip install bs4"
   ]
  },
  {
   "cell_type": "code",
   "execution_count": 127,
   "metadata": {},
   "outputs": [
    {
     "name": "stdout",
     "output_type": "stream",
     "text": [
      "Requirement already satisfied: requests in c:\\users\\robso\\appdata\\local\\packages\\pythonsoftwarefoundation.python.3.9_qbz5n2kfra8p0\\localcache\\local-packages\\python39\\site-packages (2.27.1)\n",
      "Requirement already satisfied: certifi>=2017.4.17 in c:\\users\\robso\\appdata\\local\\packages\\pythonsoftwarefoundation.python.3.9_qbz5n2kfra8p0\\localcache\\local-packages\\python39\\site-packages (from requests) (2021.10.8)\n",
      "Requirement already satisfied: urllib3<1.27,>=1.21.1 in c:\\users\\robso\\appdata\\local\\packages\\pythonsoftwarefoundation.python.3.9_qbz5n2kfra8p0\\localcache\\local-packages\\python39\\site-packages (from requests) (1.26.8)\n",
      "Requirement already satisfied: idna<4,>=2.5 in c:\\users\\robso\\appdata\\local\\packages\\pythonsoftwarefoundation.python.3.9_qbz5n2kfra8p0\\localcache\\local-packages\\python39\\site-packages (from requests) (3.3)\n",
      "Requirement already satisfied: charset-normalizer~=2.0.0 in c:\\users\\robso\\appdata\\local\\packages\\pythonsoftwarefoundation.python.3.9_qbz5n2kfra8p0\\localcache\\local-packages\\python39\\site-packages (from requests) (2.0.12)\n",
      "Note: you may need to restart the kernel to use updated packages.\n"
     ]
    }
   ],
   "source": [
    "pip install requests"
   ]
  },
  {
   "cell_type": "code",
   "execution_count": 128,
   "metadata": {},
   "outputs": [
    {
     "name": "stdout",
     "output_type": "stream",
     "text": [
      "Requirement already satisfied: openpyxl in c:\\users\\robso\\appdata\\local\\packages\\pythonsoftwarefoundation.python.3.9_qbz5n2kfra8p0\\localcache\\local-packages\\python39\\site-packages (3.1.2)\n",
      "Requirement already satisfied: et-xmlfile in c:\\users\\robso\\appdata\\local\\packages\\pythonsoftwarefoundation.python.3.9_qbz5n2kfra8p0\\localcache\\local-packages\\python39\\site-packages (from openpyxl) (1.1.0)\n",
      "Note: you may need to restart the kernel to use updated packages.\n"
     ]
    }
   ],
   "source": [
    "pip install openpyxl"
   ]
  },
  {
   "cell_type": "code",
   "execution_count": 129,
   "metadata": {},
   "outputs": [
    {
     "name": "stdout",
     "output_type": "stream",
     "text": [
      "Requirement already satisfied: pandas in c:\\users\\robso\\appdata\\local\\packages\\pythonsoftwarefoundation.python.3.9_qbz5n2kfra8p0\\localcache\\local-packages\\python39\\site-packages (1.5.3)\n",
      "Requirement already satisfied: python-dateutil>=2.8.1 in c:\\users\\robso\\appdata\\local\\packages\\pythonsoftwarefoundation.python.3.9_qbz5n2kfra8p0\\localcache\\local-packages\\python39\\site-packages (from pandas) (2.8.2)\n",
      "Requirement already satisfied: pytz>=2020.1 in c:\\users\\robso\\appdata\\local\\packages\\pythonsoftwarefoundation.python.3.9_qbz5n2kfra8p0\\localcache\\local-packages\\python39\\site-packages (from pandas) (2022.7)\n",
      "Requirement already satisfied: numpy>=1.20.3 in c:\\users\\robso\\appdata\\local\\packages\\pythonsoftwarefoundation.python.3.9_qbz5n2kfra8p0\\localcache\\local-packages\\python39\\site-packages (from pandas) (1.24.2)\n",
      "Requirement already satisfied: six>=1.5 in c:\\users\\robso\\appdata\\local\\packages\\pythonsoftwarefoundation.python.3.9_qbz5n2kfra8p0\\localcache\\local-packages\\python39\\site-packages (from python-dateutil>=2.8.1->pandas) (1.16.0)\n",
      "Note: you may need to restart the kernel to use updated packages.\n"
     ]
    }
   ],
   "source": [
    "pip install pandas"
   ]
  },
  {
   "cell_type": "code",
   "execution_count": 130,
   "metadata": {},
   "outputs": [
    {
     "name": "stdout",
     "output_type": "stream",
     "text": [
      "Note: you may need to restart the kernel to use updated packages.\n"
     ]
    }
   ],
   "source": [
    "pip freeze > requirements.txt"
   ]
  },
  {
   "attachments": {},
   "cell_type": "markdown",
   "metadata": {},
   "source": [
    "Importando as bibliotecas\n",
    "+ Soup\n",
    "+ Pandas\n",
    "+ requests"
   ]
  },
  {
   "attachments": {},
   "cell_type": "markdown",
   "metadata": {},
   "source": [
    "REQUESTS: Funcionando apenas no python 3.9"
   ]
  },
  {
   "attachments": {},
   "cell_type": "markdown",
   "metadata": {},
   "source": [
    "### Após mudar para o Python 3.9, Rode todos os codigos e instale o kernel que ele vai pedir"
   ]
  },
  {
   "cell_type": "code",
   "execution_count": 131,
   "metadata": {},
   "outputs": [],
   "source": [
    "import pandas as pd\n",
    "import bs4\n",
    "from bs4 import BeautifulSoup\n",
    "import requests\n",
    "headers = {'User-Agent': 'Mozilla/5.0 (Windows NT 10.0; Win64; x64) AppleWebKit/537.36 (KHTML, like Gecko) Chrome/110.0.0.0 Safari/537.36'}"
   ]
  },
  {
   "attachments": {},
   "cell_type": "markdown",
   "metadata": {},
   "source": [
    "### Hora e data atual da pesquisa\n"
   ]
  },
  {
   "cell_type": "code",
   "execution_count": 132,
   "metadata": {},
   "outputs": [
    {
     "name": "stdout",
     "output_type": "stream",
     "text": [
      " quarta-feira, 5 de abril de 2023 \n",
      "18:44\n"
     ]
    }
   ],
   "source": [
    "page4 = requests.get('https://www.google.com/search?q=data&rlz=1C1SQJL_pt-BRBR998BR998&sxsrf=APwXEdcupV6LQAigM1YJ-8DRy9SGmmyOjw%3A1680127416747&ei=uLUkZO6JLYPM1sQP_teriAo&ved=0ahUKEwjuxeiukoL-AhUDppUCHf7rCqEQ4dUDCBA&uact=5&oq=data&gs_lcp=Cgxnd3Mtd2l6LXNlcnAQAzIECCMQJzIECCMQJzIHCAAQigUQQzIOCC4QgAQQsQMQxwEQ0QMyDQgAEIoFELEDEIMBEEMyBwgAEIoFEEMyBQgAEIAEMgsIABCABBCxAxCDATIICAAQgAQQsQMyCwgAEIoFELEDEIMBOgoIABBHENYEELADOgoIABCKBRCwAxBDSgQIQRgAUMsFWMoNYPsSaAFwAXgAgAGDAYgBvwWSAQMwLjaYAQCgAQHIAQrAAQE&sclient=gws-wiz-serp', headers = headers)\n",
    "soup4 = BeautifulSoup(page4.content, 'html.parser')\n",
    "data_atual = soup4.find_all('div', class_=\"vk_bk dDoNo FzvWSb\")[0]\n",
    "print(data_atual.text)\n",
    "\n",
    "page2 = requests.get('https://www.google.com/search?q=hora&oq=hora&aqs=chrome..69i57j0i433i512j0i131i433i457i512j0i402i512j0i512j0i131i433i512j0i512j0i131i433i512j0i512l2.1378j0j1&sourceid=chrome&ie=UTF-8', headers = headers)\n",
    "soup2 = BeautifulSoup(page2.content, 'html.parser')\n",
    "Hora_agora = soup2.find_all('div', class_=\"gsrt vk_bk FzvWSb YwPhnf\")[0]\n",
    "print(Hora_agora.text)"
   ]
  },
  {
   "attachments": {},
   "cell_type": "markdown",
   "metadata": {},
   "source": [
    "### Dollar"
   ]
  },
  {
   "cell_type": "code",
   "execution_count": 133,
   "metadata": {},
   "outputs": [
    {
     "name": "stdout",
     "output_type": "stream",
     "text": [
      "5,03\n"
     ]
    }
   ],
   "source": [
    "\n",
    "page = requests.get('https://www.google.com/search?q=dolar+hoje&rlz=1C1SQJL_pt-BRBR998BR998&oq=dola&aqs=chrome.1.69i57j0i271l3.3519j0j4&sourceid=chrome&ie=UTF-8&dlnr=1&sei=ykoSZKGROs6H5OUPg5KBoAk', headers = headers)\n",
    "soup = BeautifulSoup(page.content, 'html.parser')\n",
    "valor_dolar = soup.find_all('span', class_=\"DFlfde SwHCTb\")[0]\n",
    "print(valor_dolar.text)\n"
   ]
  },
  {
   "attachments": {},
   "cell_type": "markdown",
   "metadata": {},
   "source": [
    "### Aquivo de log para teste do Soup"
   ]
  },
  {
   "cell_type": "code",
   "execution_count": 134,
   "metadata": {},
   "outputs": [
    {
     "name": "stdout",
     "output_type": "stream",
     "text": [
      "\n",
      "______________________________________\n",
      "1 Dollar vale 5,03 reais.\n",
      "18:44,  quarta-feira, 5 de abril de 2023 \n",
      "\n"
     ]
    }
   ],
   "source": [
    "with open('Log.txt', 'a') as arquivo:\n",
    "    arquivo.write(f'\\n______________________________________\\n1 Dollar vale {valor_dolar.text} reais.')\n",
    "    arquivo.write(f'\\n{Hora_agora.text}')\n",
    "    arquivo.write(data_atual.text)\n",
    "    print(f'\\n______________________________________\\n1 Dollar vale {valor_dolar.text} reais.\\n{Hora_agora.text}, {data_atual.text}\\n')"
   ]
  },
  {
   "attachments": {},
   "cell_type": "markdown",
   "metadata": {},
   "source": [
    "### EURO\n"
   ]
  },
  {
   "cell_type": "code",
   "execution_count": 135,
   "metadata": {},
   "outputs": [
    {
     "name": "stdout",
     "output_type": "stream",
     "text": [
      "5,49\n"
     ]
    }
   ],
   "source": [
    "page3 = requests.get('https://www.google.com/search?q=EURO+hoje&rlz=1C1SQJL_pt-BRBR998BR998&sxsrf=APwXEddQfbnRYqRXtmONwf62sU3XcRjDdQ%3A1680725496187&ei=-NUtZK6TC8nX5OUPjJmt8Ag&ved=0ahUKEwiu76ixxpP-AhXJK7kGHYxMC44Q4dUDCA8&uact=5&oq=EURO+hoje&gs_lcp=Cgxnd3Mtd2l6LXNlcnAQAzINCAAQigUQsQMQgwEQQzILCAAQgAQQsQMQgwEyCwgAEIAEELEDEIMBMgsIABCABBCxAxCDATIFCAAQgAQyBQgAEIAEMgUIABCABDIFCAAQgAQyBQgAEIAEMgUIABCABEoECEEYAFAAWOwIYPwdaABwAXgAgAGsB4gBwxiSAQswLjEuNC0xLjEuMpgBAKABAcABAQ&sclient=gws-wiz-serp', headers = headers)\n",
    "soup3 = BeautifulSoup(page3.content, 'html.parser')\n",
    "valor_euro = soup3.find_all('span', class_=\"DFlfde SwHCTb\")[0]\n",
    "print(valor_euro.text)"
   ]
  },
  {
   "cell_type": "code",
   "execution_count": 136,
   "metadata": {},
   "outputs": [
    {
     "name": "stdout",
     "output_type": "stream",
     "text": [
      " quarta-feira, 5 de abril de 2023 \n",
      "18:44\n"
     ]
    }
   ],
   "source": [
    "page4 = requests.get('https://www.google.com/search?q=data&rlz=1C1SQJL_pt-BRBR998BR998&sxsrf=APwXEdcupV6LQAigM1YJ-8DRy9SGmmyOjw%3A1680127416747&ei=uLUkZO6JLYPM1sQP_teriAo&ved=0ahUKEwjuxeiukoL-AhUDppUCHf7rCqEQ4dUDCBA&uact=5&oq=data&gs_lcp=Cgxnd3Mtd2l6LXNlcnAQAzIECCMQJzIECCMQJzIHCAAQigUQQzIOCC4QgAQQsQMQxwEQ0QMyDQgAEIoFELEDEIMBEEMyBwgAEIoFEEMyBQgAEIAEMgsIABCABBCxAxCDATIICAAQgAQQsQMyCwgAEIoFELEDEIMBOgoIABBHENYEELADOgoIABCKBRCwAxBDSgQIQRgAUMsFWMoNYPsSaAFwAXgAgAGDAYgBvwWSAQMwLjaYAQCgAQHIAQrAAQE&sclient=gws-wiz-serp', headers = headers)\n",
    "soup4 = BeautifulSoup(page4.content, 'html.parser')\n",
    "data_atual = soup4.find_all('div', class_=\"vk_bk dDoNo FzvWSb\")[0]\n",
    "print(data_atual.text)\n",
    "\n",
    "page2 = requests.get('https://www.google.com/search?q=hora&oq=hora&aqs=chrome..69i57j0i433i512j0i131i433i457i512j0i402i512j0i512j0i131i433i512j0i512j0i131i433i512j0i512l2.1378j0j1&sourceid=chrome&ie=UTF-8', headers = headers)\n",
    "soup2 = BeautifulSoup(page2.content, 'html.parser')\n",
    "Hora_agora = soup2.find_all('div', class_=\"gsrt vk_bk FzvWSb YwPhnf\")[0]\n",
    "print(Hora_agora.text)"
   ]
  },
  {
   "cell_type": "code",
   "execution_count": 137,
   "metadata": {},
   "outputs": [
    {
     "name": "stdout",
     "output_type": "stream",
     "text": [
      "\n",
      "______________________________________\n",
      "1 Euro Vale 5,49 reais.\n",
      "18:44,  quarta-feira, 5 de abril de 2023 \n",
      "\n"
     ]
    }
   ],
   "source": [
    "with open('Log.txt', 'a') as arquivo:\n",
    "    arquivo.write(f'\\n______________________________________\\n1 Euro vale {valor_euro.text} reais.')\n",
    "    arquivo.write(f'\\n{Hora_agora.text}')\n",
    "    arquivo.write(data_atual.text)\n",
    "    print(f'\\n______________________________________\\n1 Euro Vale {valor_euro.text} reais.\\n{Hora_agora.text}, {data_atual.text}\\n')"
   ]
  },
  {
   "attachments": {},
   "cell_type": "markdown",
   "metadata": {},
   "source": [
    "### Yen"
   ]
  },
  {
   "cell_type": "code",
   "execution_count": 138,
   "metadata": {},
   "outputs": [
    {
     "name": "stdout",
     "output_type": "stream",
     "text": [
      "0,038\n"
     ]
    }
   ],
   "source": [
    "page5 = requests.get('https://www.google.com/search?q=iene+hoje&rlz=1C1SQJL_pt-BRBR998BR998&sxsrf=APwXEdebEgkemkBO8HfOuMs8ZABNcQ9Djw%3A1680726613683&ei=VdotZPWwKbOK5OUPk_KeyAI&oq=yen+hoje&gs_lcp=Cgxnd3Mtd2l6LXNlcnAQARgAMg0IABCKBRCxAxCDARBDMgcIABCABBAKMgcIABCABBAKMgcIABCKBRBDMgcIABCABBAKMggIABAHEB4QCjIHCAAQgAQQCjIICAAQBxAeEAoyCwgAEAcQHhDxBBAKMggIABAHEB4QCjoPCC4QgAQQDRCxAxAKEOoEOgYIABAHEB46GgguEIAEEA0QsQMQChDqBBDcBBDeBBDgBBgBSgQIQRgAUABYhwVgpiJoAHABeACAAZ8BiAGeA5IBAzAuM5gBAKABAcABAdoBBggBEAEYFA&sclient=gws-wiz-serp', headers = headers)\n",
    "soup5 = BeautifulSoup(page5.content, 'html.parser')\n",
    "valor_yen = soup5.find_all('span', class_=\"DFlfde SwHCTb\")[0]\n",
    "print(valor_yen.text)"
   ]
  },
  {
   "cell_type": "code",
   "execution_count": 139,
   "metadata": {},
   "outputs": [
    {
     "name": "stdout",
     "output_type": "stream",
     "text": [
      " quarta-feira, 5 de abril de 2023 \n",
      "18:44\n"
     ]
    }
   ],
   "source": [
    "#Celula contendo data e hora atual\n",
    "page4 = requests.get('https://www.google.com/search?q=data&rlz=1C1SQJL_pt-BRBR998BR998&sxsrf=APwXEdcupV6LQAigM1YJ-8DRy9SGmmyOjw%3A1680127416747&ei=uLUkZO6JLYPM1sQP_teriAo&ved=0ahUKEwjuxeiukoL-AhUDppUCHf7rCqEQ4dUDCBA&uact=5&oq=data&gs_lcp=Cgxnd3Mtd2l6LXNlcnAQAzIECCMQJzIECCMQJzIHCAAQigUQQzIOCC4QgAQQsQMQxwEQ0QMyDQgAEIoFELEDEIMBEEMyBwgAEIoFEEMyBQgAEIAEMgsIABCABBCxAxCDATIICAAQgAQQsQMyCwgAEIoFELEDEIMBOgoIABBHENYEELADOgoIABCKBRCwAxBDSgQIQRgAUMsFWMoNYPsSaAFwAXgAgAGDAYgBvwWSAQMwLjaYAQCgAQHIAQrAAQE&sclient=gws-wiz-serp', headers = headers)\n",
    "soup4 = BeautifulSoup(page4.content, 'html.parser')\n",
    "data_atual = soup4.find_all('div', class_=\"vk_bk dDoNo FzvWSb\")[0]\n",
    "print(data_atual.text)\n",
    "\n",
    "page2 = requests.get('https://www.google.com/search?q=hora&oq=hora&aqs=chrome..69i57j0i433i512j0i131i433i457i512j0i402i512j0i512j0i131i433i512j0i512j0i131i433i512j0i512l2.1378j0j1&sourceid=chrome&ie=UTF-8', headers = headers)\n",
    "soup2 = BeautifulSoup(page2.content, 'html.parser')\n",
    "Hora_agora = soup2.find_all('div', class_=\"gsrt vk_bk FzvWSb YwPhnf\")[0]\n",
    "print(Hora_agora.text)"
   ]
  },
  {
   "cell_type": "code",
   "execution_count": 140,
   "metadata": {},
   "outputs": [
    {
     "name": "stdout",
     "output_type": "stream",
     "text": [
      "\n",
      "______________________________________\n",
      "1 Iene  Vale 0,038 reais.\n",
      "18:44,  quarta-feira, 5 de abril de 2023 \n",
      "\n"
     ]
    }
   ],
   "source": [
    "with open('Log.txt', 'a') as arquivo:\n",
    "    arquivo.write(f'\\n______________________________________\\n1 Iene  vale {valor_yen.text} reais.')\n",
    "    arquivo.write(f'\\n{Hora_agora.text}')\n",
    "    arquivo.write(data_atual.text)\n",
    "    print(f'\\n______________________________________\\n1 Iene  Vale {valor_yen.text} reais.\\n{Hora_agora.text}, {data_atual.text}\\n')"
   ]
  },
  {
   "attachments": {},
   "cell_type": "markdown",
   "metadata": {},
   "source": [
    "### Yuan Chinês\n"
   ]
  },
  {
   "cell_type": "code",
   "execution_count": 141,
   "metadata": {},
   "outputs": [
    {
     "name": "stdout",
     "output_type": "stream",
     "text": [
      "0,73\n"
     ]
    }
   ],
   "source": [
    "page6 = requests.get('https://www.google.com/search?q=yuan+hoje&rlz=1C1SQJL_pt-BRBR998BR998&sxsrf=APwXEdfrtzGxfxtaaWsS8DyoRLzNpihc1w%3A1680727688378&ei=iN4tZJDhFrng5OUPj7q8sAc&oq=yuan+hoje&gs_lcp=Cgxnd3Mtd2l6LXNlcnAQARgAMgsIABCABBCxAxCDATIGCAAQBxAeMgYIABAHEB4yCAgAEAcQHhAKMgYIABAHEB4yBggAEAcQHjIGCAAQBRAeMggIABAFEAcQHjIGCAAQBRAeMgYIABAFEB5KBAhBGABQAFgAYNUMaABwAXgAgAF-iAF-kgEDMC4xmAEAoAECoAEBwAEB&sclient=gws-wiz-serp', headers = headers)\n",
    "soup6 = BeautifulSoup(page6.content, 'html.parser')\n",
    "valor_yuan = soup6.find_all('span', class_=\"DFlfde SwHCTb\")[0]\n",
    "print(valor_yuan.text)"
   ]
  },
  {
   "cell_type": "code",
   "execution_count": 142,
   "metadata": {},
   "outputs": [
    {
     "name": "stdout",
     "output_type": "stream",
     "text": [
      " quarta-feira, 5 de abril de 2023 \n",
      "18:44\n"
     ]
    }
   ],
   "source": [
    "#Celula contendo data e hora atual\n",
    "page4 = requests.get('https://www.google.com/search?q=data&rlz=1C1SQJL_pt-BRBR998BR998&sxsrf=APwXEdcupV6LQAigM1YJ-8DRy9SGmmyOjw%3A1680127416747&ei=uLUkZO6JLYPM1sQP_teriAo&ved=0ahUKEwjuxeiukoL-AhUDppUCHf7rCqEQ4dUDCBA&uact=5&oq=data&gs_lcp=Cgxnd3Mtd2l6LXNlcnAQAzIECCMQJzIECCMQJzIHCAAQigUQQzIOCC4QgAQQsQMQxwEQ0QMyDQgAEIoFELEDEIMBEEMyBwgAEIoFEEMyBQgAEIAEMgsIABCABBCxAxCDATIICAAQgAQQsQMyCwgAEIoFELEDEIMBOgoIABBHENYEELADOgoIABCKBRCwAxBDSgQIQRgAUMsFWMoNYPsSaAFwAXgAgAGDAYgBvwWSAQMwLjaYAQCgAQHIAQrAAQE&sclient=gws-wiz-serp', headers = headers)\n",
    "soup4 = BeautifulSoup(page4.content, 'html.parser')\n",
    "data_atual = soup4.find_all('div', class_=\"vk_bk dDoNo FzvWSb\")[0]\n",
    "print(data_atual.text)\n",
    "\n",
    "page2 = requests.get('https://www.google.com/search?q=hora&oq=hora&aqs=chrome..69i57j0i433i512j0i131i433i457i512j0i402i512j0i512j0i131i433i512j0i512j0i131i433i512j0i512l2.1378j0j1&sourceid=chrome&ie=UTF-8', headers = headers)\n",
    "soup2 = BeautifulSoup(page2.content, 'html.parser')\n",
    "Hora_agora = soup2.find_all('div', class_=\"gsrt vk_bk FzvWSb YwPhnf\")[0]\n",
    "print(Hora_agora.text)"
   ]
  },
  {
   "cell_type": "code",
   "execution_count": 143,
   "metadata": {},
   "outputs": [
    {
     "name": "stdout",
     "output_type": "stream",
     "text": [
      "\n",
      "______________________________________\n",
      "1 Yuan Chinês Vale 0,73 reais.\n",
      "18:44,  quarta-feira, 5 de abril de 2023 \n",
      "\n"
     ]
    }
   ],
   "source": [
    "with open('Log.txt', 'a') as arquivo:\n",
    "    arquivo.write(f'\\n______________________________________\\n1 Yuan Chinês vale {valor_yuan.text} reais.')\n",
    "    arquivo.write(f'\\n{Hora_agora.text}')\n",
    "    arquivo.write(data_atual.text)\n",
    "    print(f'\\n______________________________________\\n1 Yuan Chinês Vale {valor_yuan.text} reais.\\n{Hora_agora.text}, {data_atual.text}\\n')"
   ]
  },
  {
   "attachments": {},
   "cell_type": "markdown",
   "metadata": {},
   "source": [
    "### Operando com PANDAS"
   ]
  },
  {
   "attachments": {},
   "cell_type": "markdown",
   "metadata": {},
   "source": [
    "### Dataframe contendo a raspagem de dados    \n",
    "+ Dollar\n",
    "+ Euro\n",
    "+ Yen\n",
    "+ Yuan"
   ]
  },
  {
   "cell_type": "code",
   "execution_count": 144,
   "metadata": {},
   "outputs": [
    {
     "data": {
      "text/html": [
       "<div>\n",
       "<style scoped>\n",
       "    .dataframe tbody tr th:only-of-type {\n",
       "        vertical-align: middle;\n",
       "    }\n",
       "\n",
       "    .dataframe tbody tr th {\n",
       "        vertical-align: top;\n",
       "    }\n",
       "\n",
       "    .dataframe thead th {\n",
       "        text-align: right;\n",
       "    }\n",
       "</style>\n",
       "<table border=\"1\" class=\"dataframe\">\n",
       "  <thead>\n",
       "    <tr style=\"text-align: right;\">\n",
       "      <th></th>\n",
       "      <th>Moeda</th>\n",
       "      <th>Valor(R$)</th>\n",
       "      <th>Hora</th>\n",
       "      <th>Data</th>\n",
       "    </tr>\n",
       "  </thead>\n",
       "  <tbody>\n",
       "    <tr>\n",
       "      <th>0</th>\n",
       "      <td>Dollar</td>\n",
       "      <td>[5,03]</td>\n",
       "      <td>[18:44]</td>\n",
       "      <td>[ quarta-feira, , [5 de abril de 2023],  ]</td>\n",
       "    </tr>\n",
       "    <tr>\n",
       "      <th>1</th>\n",
       "      <td>Euro</td>\n",
       "      <td>[5,49]</td>\n",
       "      <td>[18:44]</td>\n",
       "      <td>[ quarta-feira, , [5 de abril de 2023],  ]</td>\n",
       "    </tr>\n",
       "    <tr>\n",
       "      <th>2</th>\n",
       "      <td>Iene</td>\n",
       "      <td>[0,038]</td>\n",
       "      <td>[18:44]</td>\n",
       "      <td>[ quarta-feira, , [5 de abril de 2023],  ]</td>\n",
       "    </tr>\n",
       "    <tr>\n",
       "      <th>3</th>\n",
       "      <td>Yuan Chinês</td>\n",
       "      <td>[0,73]</td>\n",
       "      <td>[18:44]</td>\n",
       "      <td>[ quarta-feira, , [5 de abril de 2023],  ]</td>\n",
       "    </tr>\n",
       "  </tbody>\n",
       "</table>\n",
       "</div>"
      ],
      "text/plain": [
       "         Moeda Valor(R$)     Hora                                        Data\n",
       "0       Dollar    [5,03]  [18:44]  [ quarta-feira, , [5 de abril de 2023],  ]\n",
       "1         Euro    [5,49]  [18:44]  [ quarta-feira, , [5 de abril de 2023],  ]\n",
       "2         Iene   [0,038]  [18:44]  [ quarta-feira, , [5 de abril de 2023],  ]\n",
       "3  Yuan Chinês    [0,73]  [18:44]  [ quarta-feira, , [5 de abril de 2023],  ]"
      ]
     },
     "metadata": {},
     "output_type": "display_data"
    }
   ],
   "source": [
    "Moedeiro = {'Moeda' :['Dollar','Euro','Iene','Yuan Chinês'],\n",
    "            'Valor(R$)' :[valor_dolar, valor_euro, valor_yen, valor_yuan],\n",
    "            'Hora' :[Hora_agora,Hora_agora,Hora_agora,Hora_agora],\n",
    "            'Data' :[data_atual,data_atual,data_atual,data_atual],    \n",
    "}\n",
    "moedas_df = pd.DataFrame(Moedeiro)\n",
    "display(moedas_df)  #Mostrando os valores de moeda e hora no DataFrame."
   ]
  },
  {
   "attachments": {},
   "cell_type": "markdown",
   "metadata": {},
   "source": [
    "### Hora de Salvar dados"
   ]
  },
  {
   "cell_type": "code",
   "execution_count": 153,
   "metadata": {},
   "outputs": [
    {
     "ename": "TypeError",
     "evalue": "strptime() argument 1 must be str, not Tag",
     "output_type": "error",
     "traceback": [
      "\u001b[1;31m---------------------------------------------------------------------------\u001b[0m",
      "\u001b[1;31mTypeError\u001b[0m                                 Traceback (most recent call last)",
      "Cell \u001b[1;32mIn[153], line 4\u001b[0m\n\u001b[0;32m      1\u001b[0m \u001b[39mfrom\u001b[39;00m \u001b[39mdatetime\u001b[39;00m \u001b[39mimport\u001b[39;00m datetime\n\u001b[0;32m      3\u001b[0m \u001b[39m# Define a hora que será convertida para extenso\u001b[39;00m\n\u001b[1;32m----> 4\u001b[0m hora \u001b[39m=\u001b[39m datetime\u001b[39m.\u001b[39;49mstrptime(Hora_agora, \u001b[39m\"\u001b[39;49m\u001b[39m%\u001b[39;49m\u001b[39mH:\u001b[39;49m\u001b[39m%\u001b[39;49m\u001b[39mM\u001b[39;49m\u001b[39m\"\u001b[39;49m)\u001b[39m.\u001b[39mtime()\n\u001b[0;32m      6\u001b[0m \u001b[39m# Cria um dicionário com as palavras para cada número de 1 a 59\u001b[39;00m\n\u001b[0;32m      7\u001b[0m palavras \u001b[39m=\u001b[39m {\n\u001b[0;32m      8\u001b[0m     \u001b[39m1\u001b[39m: \u001b[39m\"\u001b[39m\u001b[39muma\u001b[39m\u001b[39m\"\u001b[39m,\n\u001b[0;32m      9\u001b[0m     \u001b[39m2\u001b[39m: \u001b[39m\"\u001b[39m\u001b[39mduas\u001b[39m\u001b[39m\"\u001b[39m,\n\u001b[1;32m   (...)\u001b[0m\n\u001b[0;32m     30\u001b[0m     \u001b[39m50\u001b[39m: \u001b[39m\"\u001b[39m\u001b[39mcinquenta\u001b[39m\u001b[39m\"\u001b[39m,\n\u001b[0;32m     31\u001b[0m }\n",
      "\u001b[1;31mTypeError\u001b[0m: strptime() argument 1 must be str, not Tag"
     ]
    }
   ],
   "source": [
    "from datetime import datetime\n",
    "\n",
    "# Define a hora que será convertida para extenso\n",
    "hora = datetime.strptime(, \"%H:%M\").time()\n",
    "\n",
    "# Cria um dicionário com as palavras para cada número de 1 a 59\n",
    "palavras = {\n",
    "    1: \"uma\",\n",
    "    2: \"duas\",\n",
    "    3: \"três\",\n",
    "    4: \"quatro\",\n",
    "    5: \"cinco\",\n",
    "    6: \"seis\",\n",
    "    7: \"sete\",\n",
    "    8: \"oito\",\n",
    "    9: \"nove\",\n",
    "    10: \"dez\",\n",
    "    11: \"onze\",\n",
    "    12: \"doze\",\n",
    "    13: \"treze\",\n",
    "    14: \"quatorze\",\n",
    "    15: \"quinze\",\n",
    "    16: \"dezesseis\",\n",
    "    17: \"dezessete\",\n",
    "    18: \"dezoito\",\n",
    "    19: \"dezenove\",\n",
    "    20: \"vinte\",\n",
    "    30: \"trinta\",\n",
    "    40: \"quarenta\",\n",
    "    50: \"cinquenta\",\n",
    "}\n",
    "\n",
    "# Verifica se a hora é em ponto ou não\n",
    "if hora.minute == 0:\n",
    "    extenso = f\"são {palavras[hora.hour]} horas em ponto\"\n",
    "else:\n",
    "    # Converte o minuto para uma palavra\n",
    "    if hora.minute < 20:\n",
    "        extenso_minuto = palavras[hora.minute]\n",
    "    else:\n",
    "        extenso_minuto = f\"{palavras[hora.minute // 10 * 10]}\"\n",
    "        if hora.minute % 10 != 0:\n",
    "            extenso_minuto += f\" e {palavras[hora.minute % 10]}\"\n",
    "    # Verifica se é necessário usar plural ou singular na palavra \"hora\"\n",
    "    if hora.hour == 1:\n",
    "        extenso_hora = \"uma hora\"\n",
    "    else:\n",
    "        extenso_hora = f\"{palavras[hora.hour]} horas\"\n",
    "    extenso = f\"são {extenso_hora} e {extenso_minuto}\"\n",
    "    \n",
    "# Imprime a hora por extenso\n",
    "print(extenso)\n"
   ]
  },
  {
   "cell_type": "code",
   "execution_count": 150,
   "metadata": {},
   "outputs": [
    {
     "ename": "NameError",
     "evalue": "name 'extenso' is not defined",
     "output_type": "error",
     "traceback": [
      "\u001b[1;31m---------------------------------------------------------------------------\u001b[0m",
      "\u001b[1;31mNameError\u001b[0m                                 Traceback (most recent call last)",
      "Cell \u001b[1;32mIn[150], line 2\u001b[0m\n\u001b[0;32m      1\u001b[0m moedas_df \u001b[39m=\u001b[39m pd\u001b[39m.\u001b[39mDataFrame(Moedeiro)  \n\u001b[1;32m----> 2\u001b[0m \u001b[39mwith\u001b[39;00m pd\u001b[39m.\u001b[39mExcelWriter(\u001b[39mf\u001b[39m\u001b[39m'\u001b[39m\u001b[39m{\u001b[39;00mextenso\u001b[39m}\u001b[39;00m\u001b[39m.xlsx\u001b[39m\u001b[39m'\u001b[39m) \u001b[39mas\u001b[39;00m writer:\n\u001b[0;32m      3\u001b[0m     moedas_df\u001b[39m.\u001b[39mto_excel(writer)  \n",
      "\u001b[1;31mNameError\u001b[0m: name 'extenso' is not defined"
     ]
    }
   ],
   "source": [
    "moedas_df = pd.DataFrame(Moedeiro)  \n",
    "with pd.ExcelWriter(f'{extenso}.xlsx') as writer:\n",
    "    moedas_df.to_excel(writer)  "
   ]
  },
  {
   "cell_type": "code",
   "execution_count": 146,
   "metadata": {},
   "outputs": [
    {
     "ename": "ValueError",
     "evalue": "Sheet 'Sheet1' already exists and if_sheet_exists is set to 'error'.",
     "output_type": "error",
     "traceback": [
      "\u001b[1;31m---------------------------------------------------------------------------\u001b[0m",
      "\u001b[1;31mValueError\u001b[0m                                Traceback (most recent call last)",
      "Cell \u001b[1;32mIn[146], line 3\u001b[0m\n\u001b[0;32m      1\u001b[0m moedas_df \u001b[39m=\u001b[39m pd\u001b[39m.\u001b[39mDataFrame(Moedeiro)  \u001b[39m#Relatando os valores de moeda e hora no DataFrame.\u001b[39;00m\n\u001b[0;32m      2\u001b[0m \u001b[39mwith\u001b[39;00m pd\u001b[39m.\u001b[39mExcelWriter(\u001b[39m\"\u001b[39m\u001b[39mRelatório.xlsx\u001b[39m\u001b[39m\"\u001b[39m, mode\u001b[39m=\u001b[39m\u001b[39m\"\u001b[39m\u001b[39ma\u001b[39m\u001b[39m\"\u001b[39m, engine\u001b[39m=\u001b[39m\u001b[39m\"\u001b[39m\u001b[39mopenpyxl\u001b[39m\u001b[39m\"\u001b[39m) \u001b[39mas\u001b[39;00m writer:\n\u001b[1;32m----> 3\u001b[0m     moedas_df\u001b[39m.\u001b[39;49mto_excel(writer)  \n",
      "File \u001b[1;32m~\\AppData\\Local\\Packages\\PythonSoftwareFoundation.Python.3.9_qbz5n2kfra8p0\\LocalCache\\local-packages\\Python39\\site-packages\\pandas\\util\\_decorators.py:211\u001b[0m, in \u001b[0;36mdeprecate_kwarg.<locals>._deprecate_kwarg.<locals>.wrapper\u001b[1;34m(*args, **kwargs)\u001b[0m\n\u001b[0;32m    209\u001b[0m     \u001b[39melse\u001b[39;00m:\n\u001b[0;32m    210\u001b[0m         kwargs[new_arg_name] \u001b[39m=\u001b[39m new_arg_value\n\u001b[1;32m--> 211\u001b[0m \u001b[39mreturn\u001b[39;00m func(\u001b[39m*\u001b[39margs, \u001b[39m*\u001b[39m\u001b[39m*\u001b[39mkwargs)\n",
      "File \u001b[1;32m~\\AppData\\Local\\Packages\\PythonSoftwareFoundation.Python.3.9_qbz5n2kfra8p0\\LocalCache\\local-packages\\Python39\\site-packages\\pandas\\util\\_decorators.py:211\u001b[0m, in \u001b[0;36mdeprecate_kwarg.<locals>._deprecate_kwarg.<locals>.wrapper\u001b[1;34m(*args, **kwargs)\u001b[0m\n\u001b[0;32m    209\u001b[0m     \u001b[39melse\u001b[39;00m:\n\u001b[0;32m    210\u001b[0m         kwargs[new_arg_name] \u001b[39m=\u001b[39m new_arg_value\n\u001b[1;32m--> 211\u001b[0m \u001b[39mreturn\u001b[39;00m func(\u001b[39m*\u001b[39margs, \u001b[39m*\u001b[39m\u001b[39m*\u001b[39mkwargs)\n",
      "File \u001b[1;32m~\\AppData\\Local\\Packages\\PythonSoftwareFoundation.Python.3.9_qbz5n2kfra8p0\\LocalCache\\local-packages\\Python39\\site-packages\\pandas\\core\\generic.py:2374\u001b[0m, in \u001b[0;36mNDFrame.to_excel\u001b[1;34m(self, excel_writer, sheet_name, na_rep, float_format, columns, header, index, index_label, startrow, startcol, engine, merge_cells, encoding, inf_rep, verbose, freeze_panes, storage_options)\u001b[0m\n\u001b[0;32m   2361\u001b[0m \u001b[39mfrom\u001b[39;00m \u001b[39mpandas\u001b[39;00m\u001b[39m.\u001b[39;00m\u001b[39mio\u001b[39;00m\u001b[39m.\u001b[39;00m\u001b[39mformats\u001b[39;00m\u001b[39m.\u001b[39;00m\u001b[39mexcel\u001b[39;00m \u001b[39mimport\u001b[39;00m ExcelFormatter\n\u001b[0;32m   2363\u001b[0m formatter \u001b[39m=\u001b[39m ExcelFormatter(\n\u001b[0;32m   2364\u001b[0m     df,\n\u001b[0;32m   2365\u001b[0m     na_rep\u001b[39m=\u001b[39mna_rep,\n\u001b[1;32m   (...)\u001b[0m\n\u001b[0;32m   2372\u001b[0m     inf_rep\u001b[39m=\u001b[39minf_rep,\n\u001b[0;32m   2373\u001b[0m )\n\u001b[1;32m-> 2374\u001b[0m formatter\u001b[39m.\u001b[39;49mwrite(\n\u001b[0;32m   2375\u001b[0m     excel_writer,\n\u001b[0;32m   2376\u001b[0m     sheet_name\u001b[39m=\u001b[39;49msheet_name,\n\u001b[0;32m   2377\u001b[0m     startrow\u001b[39m=\u001b[39;49mstartrow,\n\u001b[0;32m   2378\u001b[0m     startcol\u001b[39m=\u001b[39;49mstartcol,\n\u001b[0;32m   2379\u001b[0m     freeze_panes\u001b[39m=\u001b[39;49mfreeze_panes,\n\u001b[0;32m   2380\u001b[0m     engine\u001b[39m=\u001b[39;49mengine,\n\u001b[0;32m   2381\u001b[0m     storage_options\u001b[39m=\u001b[39;49mstorage_options,\n\u001b[0;32m   2382\u001b[0m )\n",
      "File \u001b[1;32m~\\AppData\\Local\\Packages\\PythonSoftwareFoundation.Python.3.9_qbz5n2kfra8p0\\LocalCache\\local-packages\\Python39\\site-packages\\pandas\\io\\formats\\excel.py:950\u001b[0m, in \u001b[0;36mExcelFormatter.write\u001b[1;34m(self, writer, sheet_name, startrow, startcol, freeze_panes, engine, storage_options)\u001b[0m\n\u001b[0;32m    947\u001b[0m     need_save \u001b[39m=\u001b[39m \u001b[39mTrue\u001b[39;00m\n\u001b[0;32m    949\u001b[0m \u001b[39mtry\u001b[39;00m:\n\u001b[1;32m--> 950\u001b[0m     writer\u001b[39m.\u001b[39;49m_write_cells(\n\u001b[0;32m    951\u001b[0m         formatted_cells,\n\u001b[0;32m    952\u001b[0m         sheet_name,\n\u001b[0;32m    953\u001b[0m         startrow\u001b[39m=\u001b[39;49mstartrow,\n\u001b[0;32m    954\u001b[0m         startcol\u001b[39m=\u001b[39;49mstartcol,\n\u001b[0;32m    955\u001b[0m         freeze_panes\u001b[39m=\u001b[39;49mfreeze_panes,\n\u001b[0;32m    956\u001b[0m     )\n\u001b[0;32m    957\u001b[0m \u001b[39mfinally\u001b[39;00m:\n\u001b[0;32m    958\u001b[0m     \u001b[39m# make sure to close opened file handles\u001b[39;00m\n\u001b[0;32m    959\u001b[0m     \u001b[39mif\u001b[39;00m need_save:\n",
      "File \u001b[1;32m~\\AppData\\Local\\Packages\\PythonSoftwareFoundation.Python.3.9_qbz5n2kfra8p0\\LocalCache\\local-packages\\Python39\\site-packages\\pandas\\io\\excel\\_openpyxl.py:469\u001b[0m, in \u001b[0;36mOpenpyxlWriter._write_cells\u001b[1;34m(self, cells, sheet_name, startrow, startcol, freeze_panes)\u001b[0m\n\u001b[0;32m    467\u001b[0m     wks \u001b[39m=\u001b[39m \u001b[39mself\u001b[39m\u001b[39m.\u001b[39mbook\u001b[39m.\u001b[39mcreate_sheet(sheet_name, target_index)\n\u001b[0;32m    468\u001b[0m \u001b[39melif\u001b[39;00m \u001b[39mself\u001b[39m\u001b[39m.\u001b[39m_if_sheet_exists \u001b[39m==\u001b[39m \u001b[39m\"\u001b[39m\u001b[39merror\u001b[39m\u001b[39m\"\u001b[39m:\n\u001b[1;32m--> 469\u001b[0m     \u001b[39mraise\u001b[39;00m \u001b[39mValueError\u001b[39;00m(\n\u001b[0;32m    470\u001b[0m         \u001b[39mf\u001b[39m\u001b[39m\"\u001b[39m\u001b[39mSheet \u001b[39m\u001b[39m'\u001b[39m\u001b[39m{\u001b[39;00msheet_name\u001b[39m}\u001b[39;00m\u001b[39m'\u001b[39m\u001b[39m already exists and \u001b[39m\u001b[39m\"\u001b[39m\n\u001b[0;32m    471\u001b[0m         \u001b[39mf\u001b[39m\u001b[39m\"\u001b[39m\u001b[39mif_sheet_exists is set to \u001b[39m\u001b[39m'\u001b[39m\u001b[39merror\u001b[39m\u001b[39m'\u001b[39m\u001b[39m.\u001b[39m\u001b[39m\"\u001b[39m\n\u001b[0;32m    472\u001b[0m     )\n\u001b[0;32m    473\u001b[0m \u001b[39melif\u001b[39;00m \u001b[39mself\u001b[39m\u001b[39m.\u001b[39m_if_sheet_exists \u001b[39m==\u001b[39m \u001b[39m\"\u001b[39m\u001b[39moverlay\u001b[39m\u001b[39m\"\u001b[39m:\n\u001b[0;32m    474\u001b[0m     wks \u001b[39m=\u001b[39m \u001b[39mself\u001b[39m\u001b[39m.\u001b[39msheets[sheet_name]\n",
      "\u001b[1;31mValueError\u001b[0m: Sheet 'Sheet1' already exists and if_sheet_exists is set to 'error'."
     ]
    }
   ],
   "source": [
    "#moedas_df = pd.DataFrame(Moedeiro)  #Relatando os valores de moeda e hora no DataFrame.\n",
    "#with pd.ExcelWriter(\"Relatório.xlsx\", mode=\"a\", engine=\"openpyxl\") as writer:\n",
    "#    moedas_df.to_excel(writer)  "
   ]
  }
 ],
 "metadata": {
  "kernelspec": {
   "display_name": "Python 3.10.6 64-bit",
   "language": "python",
   "name": "python3"
  },
  "language_info": {
   "codemirror_mode": {
    "name": "ipython",
    "version": 3
   },
   "file_extension": ".py",
   "mimetype": "text/x-python",
   "name": "python",
   "nbconvert_exporter": "python",
   "pygments_lexer": "ipython3",
   "version": "3.9.13"
  },
  "orig_nbformat": 4,
  "vscode": {
   "interpreter": {
    "hash": "8fee86138af1eb0db027abd7ae9811a7a68978550fae5e6e8a2fd892a05f89b8"
   }
  }
 },
 "nbformat": 4,
 "nbformat_minor": 2
}
